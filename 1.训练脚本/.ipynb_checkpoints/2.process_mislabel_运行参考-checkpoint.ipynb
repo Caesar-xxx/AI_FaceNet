{
 "cells": [
  {
   "cell_type": "code",
   "execution_count": 1,
   "id": "3b6364ad-9a1f-48c5-85bc-7705015f121c",
   "metadata": {},
   "outputs": [],
   "source": [
    "# 处理标错的人脸"
   ]
  },
  {
   "cell_type": "code",
   "execution_count": 2,
   "id": "ffd4e4bd-85c9-4a2e-9692-fbcdf8cf3d41",
   "metadata": {},
   "outputs": [],
   "source": [
    "# 1.清洗文件夹下的数据：找出某个人文件夹下图片中明显与其他图片不一致的图\n",
    "# 2.选择一张图片A作为target，其他图片B、C、D作为对照，计算该组的平均欧式距离d_A = （d(AB)+d(AC)+d(AD)）/ 3\n",
    "# 3.再选择B做为target，其他图A、C、D作为对照，计算平均欧式距离d_B，\n",
    "# 4.如果d_A大于阈值，则删除A\n",
    "# 5.其他文件夹类似处理\n"
   ]
  },
  {
   "cell_type": "code",
   "execution_count": 3,
   "id": "37f57063-a3fb-4157-b87c-ec7341181c69",
   "metadata": {},
   "outputs": [],
   "source": [
    "# 计算欧式距离"
   ]
  },
  {
   "cell_type": "code",
   "execution_count": 4,
   "id": "b37c394e-6562-4abd-9369-16e951326c4a",
   "metadata": {},
   "outputs": [],
   "source": [
    "# 导入包\n",
    "import cv2\n",
    "import numpy as np\n",
    "import matplotlib.pyplot as plt\n",
    "import dlib\n",
    "# %matplotlib inline\n",
    "plt.rcParams['figure.dpi'] = 200"
   ]
  },
  {
   "cell_type": "code",
   "execution_count": 5,
   "id": "2336f268-e02b-4fd3-bd39-443ccdc2edd3",
   "metadata": {},
   "outputs": [],
   "source": [
    "# 关键点 检测模型\n",
    "shape_detector = dlib.shape_predictor('./models/shape_predictor_68_face_landmarks.dat')\n",
    "# resnet模型\n",
    "face_descriptor_extractor = dlib.face_recognition_model_v1('./models/dlib_face_recognition_resnet_model_v1.dat')"
   ]
  },
  {
   "cell_type": "code",
   "execution_count": 6,
   "id": "d5bab92e-a9b8-4227-aa27-e63bcc84a087",
   "metadata": {},
   "outputs": [],
   "source": [
    "# 提取单张图片的特征描述符\n",
    "def getFaceFeat(fileName):\n",
    "    \n",
    "    #读取\n",
    "    img=cv2.imdecode(np.fromfile(fileName,dtype=np.uint8),-1)\n",
    "    if img is None:\n",
    "        return None\n",
    "    \n",
    "    # 转为RGB\n",
    "    img = cv2.cvtColor(img,cv2.COLOR_BGR2RGB)\n",
    "    # 初始化\n",
    "    face_descriptor = None\n",
    "    # 整个裁剪图就是人脸，无需再检测\n",
    "    h,w = img.shape[:2]\n",
    "    l,t,r,b = 0,0,w,h\n",
    "    # 构造DLIB类型\n",
    "    face = dlib.rectangle(l,t,r,b) \n",
    "    # 获取关键点\n",
    "    points = shape_detector(img,face)\n",
    "    # 获取特征描述符\n",
    "    face_descriptor = face_descriptor_extractor.compute_face_descriptor(img,points)\n",
    "    # 转为numpy 格式的数组\n",
    "    face_descriptor = [f for f in face_descriptor]\n",
    "    face_descriptor = np.asarray(face_descriptor,dtype=np.float64)\n",
    "    face_descriptor = np.reshape(face_descriptor,(1,-1))\n",
    "    \n",
    "    return face_descriptor"
   ]
  },
  {
   "cell_type": "code",
   "execution_count": 7,
   "id": "7d8e281e-8054-4660-9cfd-58cdccd3a6ed",
   "metadata": {},
   "outputs": [],
   "source": [
    "# 测试一张\n",
    "feat_test = getFaceFeat('./chinese_faces_cleaned/丁冠森/丁冠森_3.jpg')"
   ]
  },
  {
   "cell_type": "code",
   "execution_count": 8,
   "id": "5da11b3d-3791-43d4-973d-d209c8075e41",
   "metadata": {},
   "outputs": [
    {
     "data": {
      "text/plain": [
       "(1, 128)"
      ]
     },
     "execution_count": 8,
     "metadata": {},
     "output_type": "execute_result"
    }
   ],
   "source": [
    "feat_test.shape"
   ]
  },
  {
   "cell_type": "code",
   "execution_count": null,
   "id": "4a6d1c20-add9-4a43-bf14-986b609123f7",
   "metadata": {},
   "outputs": [],
   "source": []
  },
  {
   "cell_type": "code",
   "execution_count": null,
   "id": "23757572-afaa-44dc-b9c5-c2703ac35bc0",
   "metadata": {},
   "outputs": [],
   "source": []
  },
  {
   "cell_type": "code",
   "execution_count": null,
   "id": "bffc446d-9eb8-4533-84c6-7f1f5e0e5a14",
   "metadata": {},
   "outputs": [],
   "source": []
  },
  {
   "cell_type": "code",
   "execution_count": 9,
   "id": "a04726dc-015a-4c4a-8031-829dd4d2e920",
   "metadata": {},
   "outputs": [],
   "source": [
    "import glob,tqdm"
   ]
  },
  {
   "cell_type": "code",
   "execution_count": 10,
   "id": "dee31216-d3c9-4b61-acbf-530585fd6886",
   "metadata": {},
   "outputs": [],
   "source": [
    "import shutil\n",
    "import os\n"
   ]
  },
  {
   "cell_type": "code",
   "execution_count": 11,
   "id": "0f6f46be-5490-4052-92a8-24bd182b6aff",
   "metadata": {},
   "outputs": [],
   "source": [
    "# 获取所有人名\n",
    "person_list = glob.glob('./chinese_faces_cleaned/*')"
   ]
  },
  {
   "cell_type": "code",
   "execution_count": 12,
   "id": "1aa8a43d-8351-4f91-bbc3-ce275e32ad84",
   "metadata": {},
   "outputs": [
    {
     "data": {
      "text/plain": [
       "'./chinese_faces_cleaned\\\\丁子玲'"
      ]
     },
     "execution_count": 12,
     "metadata": {},
     "output_type": "execute_result"
    }
   ],
   "source": [
    "person_list[8]"
   ]
  },
  {
   "cell_type": "code",
   "execution_count": 13,
   "id": "9de913d9-7de2-4aeb-8657-51a2258b1adc",
   "metadata": {},
   "outputs": [
    {
     "data": {
      "text/plain": [
       "4029"
      ]
     },
     "execution_count": 13,
     "metadata": {},
     "output_type": "execute_result"
    }
   ],
   "source": [
    "len(person_list)"
   ]
  },
  {
   "cell_type": "code",
   "execution_count": 14,
   "id": "cbc62d03-0233-4527-84e8-13da255f91df",
   "metadata": {},
   "outputs": [
    {
     "name": "stderr",
     "output_type": "stream",
     "text": [
      " 13%|██████████▏                                                                  | 267/2029 [07:54<1:02:14,  2.12s/it]"
     ]
    },
    {
     "name": "stdout",
     "output_type": "stream",
     "text": [
      "删除./chinese_faces_cleaned\\熊梓菱\\熊梓菱_2.jpg\n"
     ]
    },
    {
     "name": "stderr",
     "output_type": "stream",
     "text": [
      " 17%|████████████▊                                                                | 336/2029 [10:11<1:18:46,  2.79s/it]"
     ]
    },
    {
     "name": "stdout",
     "output_type": "stream",
     "text": [
      "删除./chinese_faces_cleaned\\王博文\\王博文_2.jpg\n"
     ]
    },
    {
     "name": "stderr",
     "output_type": "stream",
     "text": [
      " 18%|█████████████▉                                                                 | 359/2029 [10:49<55:48,  2.00s/it]"
     ]
    },
    {
     "name": "stdout",
     "output_type": "stream",
     "text": [
      "删除./chinese_faces_cleaned\\王奕婷\\王奕婷_5.jpg\n"
     ]
    },
    {
     "name": "stderr",
     "output_type": "stream",
     "text": [
      " 20%|███████████████▌                                                               | 401/2029 [12:07<57:38,  2.12s/it]"
     ]
    },
    {
     "name": "stdout",
     "output_type": "stream",
     "text": [
      "删除./chinese_faces_cleaned\\王希怡\\王希怡_0.jpg\n"
     ]
    },
    {
     "name": "stderr",
     "output_type": "stream",
     "text": [
      " 20%|████████████████                                                               | 411/2029 [12:28<51:05,  1.89s/it]"
     ]
    },
    {
     "name": "stdout",
     "output_type": "stream",
     "text": [
      "删除./chinese_faces_cleaned\\王彦霖\\王彦霖_5.jpg\n"
     ]
    },
    {
     "name": "stderr",
     "output_type": "stream",
     "text": [
      " 21%|████████████████▏                                                              | 417/2029 [12:37<51:52,  1.93s/it]"
     ]
    },
    {
     "name": "stdout",
     "output_type": "stream",
     "text": [
      "删除./chinese_faces_cleaned\\王思平\\王思平_3.jpg\n"
     ]
    },
    {
     "name": "stderr",
     "output_type": "stream",
     "text": [
      " 21%|████████████████▉                                                              | 436/2029 [13:04<42:18,  1.59s/it]"
     ]
    },
    {
     "name": "stdout",
     "output_type": "stream",
     "text": [
      "删除./chinese_faces_cleaned\\王明明\\王明明_1.jpg\n",
      "删除./chinese_faces_cleaned\\王明明\\王明明_3.jpg\n"
     ]
    },
    {
     "name": "stderr",
     "output_type": "stream",
     "text": [
      " 22%|█████████████████▏                                                           | 453/2029 [13:40<1:09:34,  2.65s/it]"
     ]
    },
    {
     "name": "stdout",
     "output_type": "stream",
     "text": [
      "删除./chinese_faces_cleaned\\王梓薇\\王梓薇_1.jpg\n"
     ]
    },
    {
     "name": "stderr",
     "output_type": "stream",
     "text": [
      " 24%|██████████████████▉                                                            | 485/2029 [14:39<54:44,  2.13s/it]"
     ]
    },
    {
     "name": "stdout",
     "output_type": "stream",
     "text": [
      "删除./chinese_faces_cleaned\\王琳\\王琳_3.jpg\n"
     ]
    },
    {
     "name": "stderr",
     "output_type": "stream",
     "text": [
      " 24%|██████████████████▍                                                          | 486/2029 [14:42<1:01:19,  2.38s/it]"
     ]
    },
    {
     "name": "stdout",
     "output_type": "stream",
     "text": [
      "删除./chinese_faces_cleaned\\王瑞儿\\王瑞儿_2.jpg\n"
     ]
    },
    {
     "name": "stderr",
     "output_type": "stream",
     "text": [
      " 25%|███████████████████▍                                                           | 498/2029 [15:08<46:40,  1.83s/it]"
     ]
    },
    {
     "name": "stdout",
     "output_type": "stream",
     "text": [
      "删除./chinese_faces_cleaned\\王祉萱\\王祉萱_5.jpg\n"
     ]
    },
    {
     "name": "stderr",
     "output_type": "stream",
     "text": [
      " 25%|████████████████████▏                                                          | 517/2029 [15:43<40:02,  1.59s/it]"
     ]
    },
    {
     "name": "stdout",
     "output_type": "stream",
     "text": [
      "删除./chinese_faces_cleaned\\王翊丹\\王翊丹_3.jpg\n"
     ]
    },
    {
     "name": "stderr",
     "output_type": "stream",
     "text": [
      " 26%|████████████████████▏                                                          | 520/2029 [15:50<52:45,  2.10s/it]"
     ]
    },
    {
     "name": "stdout",
     "output_type": "stream",
     "text": [
      "删除./chinese_faces_cleaned\\王聪\\王聪_1.jpg\n"
     ]
    },
    {
     "name": "stderr",
     "output_type": "stream",
     "text": [
      " 26%|████████████████████▌                                                          | 527/2029 [16:06<55:56,  2.23s/it]"
     ]
    },
    {
     "name": "stdout",
     "output_type": "stream",
     "text": [
      "删除./chinese_faces_cleaned\\王艺禅\\王艺禅_8.jpg\n"
     ]
    },
    {
     "name": "stderr",
     "output_type": "stream",
     "text": [
      " 27%|████████████████████▉                                                          | 539/2029 [16:34<58:17,  2.35s/it]"
     ]
    },
    {
     "name": "stdout",
     "output_type": "stream",
     "text": [
      "删除./chinese_faces_cleaned\\王菲\\王菲_0.jpg\n"
     ]
    },
    {
     "name": "stderr",
     "output_type": "stream",
     "text": [
      " 30%|████████████████████████                                                       | 617/2029 [18:47<47:25,  2.02s/it]"
     ]
    },
    {
     "name": "stdout",
     "output_type": "stream",
     "text": [
      "删除./chinese_faces_cleaned\\田沅\\田沅_7.jpg\n"
     ]
    },
    {
     "name": "stderr",
     "output_type": "stream",
     "text": [
      " 32%|████████████████████████▉                                                      | 640/2029 [19:33<55:42,  2.41s/it]"
     ]
    },
    {
     "name": "stdout",
     "output_type": "stream",
     "text": [
      "删除./chinese_faces_cleaned\\白庆琳\\白庆琳_3.jpg\n"
     ]
    },
    {
     "name": "stderr",
     "output_type": "stream",
     "text": [
      " 40%|███████████████████████████████▍                                               | 806/2029 [24:29<45:50,  2.25s/it]"
     ]
    },
    {
     "name": "stdout",
     "output_type": "stream",
     "text": [
      "删除./chinese_faces_cleaned\\聂鑫\\聂鑫_7.jpg\n"
     ]
    },
    {
     "name": "stderr",
     "output_type": "stream",
     "text": [
      " 48%|█████████████████████████████████████▊                                         | 970/2029 [29:08<29:21,  1.66s/it]"
     ]
    },
    {
     "name": "stdout",
     "output_type": "stream",
     "text": [
      "删除./chinese_faces_cleaned\\董明珠\\董明珠_0.jpg\n"
     ]
    },
    {
     "name": "stderr",
     "output_type": "stream",
     "text": [
      " 49%|██████████████████████████████████████▌                                        | 989/2029 [29:47<33:27,  1.93s/it]"
     ]
    },
    {
     "name": "stdout",
     "output_type": "stream",
     "text": [
      "删除./chinese_faces_cleaned\\蒋怡\\蒋怡_2.jpg\n"
     ]
    },
    {
     "name": "stderr",
     "output_type": "stream",
     "text": [
      " 51%|███████████████████████████████████████▉                                      | 1040/2029 [31:18<22:23,  1.36s/it]"
     ]
    },
    {
     "name": "stdout",
     "output_type": "stream",
     "text": [
      "删除./chinese_faces_cleaned\\血纯茗雅\\血纯茗雅_4.jpg\n"
     ]
    },
    {
     "name": "stderr",
     "output_type": "stream",
     "text": [
      " 53%|█████████████████████████████████████████▍                                    | 1078/2029 [32:23<27:13,  1.72s/it]"
     ]
    },
    {
     "name": "stdout",
     "output_type": "stream",
     "text": [
      "删除./chinese_faces_cleaned\\许凯\\许凯_0.jpg\n"
     ]
    },
    {
     "name": "stderr",
     "output_type": "stream",
     "text": [
      " 54%|█████████████████████████████████████████▊                                    | 1089/2029 [32:42<28:43,  1.83s/it]"
     ]
    },
    {
     "name": "stdout",
     "output_type": "stream",
     "text": [
      "删除./chinese_faces_cleaned\\许晴\\许晴_0.jpg\n"
     ]
    },
    {
     "name": "stderr",
     "output_type": "stream",
     "text": [
      " 54%|██████████████████████████████████████████▎                                   | 1102/2029 [33:11<34:53,  2.26s/it]"
     ]
    },
    {
     "name": "stdout",
     "output_type": "stream",
     "text": [
      "删除./chinese_faces_cleaned\\谈莉娜\\谈莉娜_3.jpg\n"
     ]
    },
    {
     "name": "stderr",
     "output_type": "stream",
     "text": [
      " 61%|███████████████████████████████████████████████▍                              | 1233/2029 [36:39<28:42,  2.16s/it]"
     ]
    },
    {
     "name": "stdout",
     "output_type": "stream",
     "text": [
      "删除./chinese_faces_cleaned\\赵昭仪\\赵昭仪_2.jpg\n"
     ]
    },
    {
     "name": "stderr",
     "output_type": "stream",
     "text": [
      " 62%|████████████████████████████████████████████████                              | 1251/2029 [37:13<22:42,  1.75s/it]"
     ]
    },
    {
     "name": "stdout",
     "output_type": "stream",
     "text": [
      "删除./chinese_faces_cleaned\\赵照\\赵照_4.jpg\n"
     ]
    },
    {
     "name": "stderr",
     "output_type": "stream",
     "text": [
      " 64%|█████████████████████████████████████████████████▋                            | 1294/2029 [38:33<26:00,  2.12s/it]"
     ]
    },
    {
     "name": "stdout",
     "output_type": "stream",
     "text": [
      "删除./chinese_faces_cleaned\\辛雨锡\\辛雨锡_4.jpg\n"
     ]
    },
    {
     "name": "stderr",
     "output_type": "stream",
     "text": [
      " 71%|███████████████████████████████████████████████████████▌                      | 1444/2029 [43:01<19:25,  1.99s/it]"
     ]
    },
    {
     "name": "stdout",
     "output_type": "stream",
     "text": [
      "删除./chinese_faces_cleaned\\郭晓然\\郭晓然_1.jpg\n"
     ]
    },
    {
     "name": "stderr",
     "output_type": "stream",
     "text": [
      " 72%|████████████████████████████████████████████████████████▏                     | 1461/2029 [43:34<19:11,  2.03s/it]"
     ]
    },
    {
     "name": "stdout",
     "output_type": "stream",
     "text": [
      "删除./chinese_faces_cleaned\\郭鹏\\郭鹏_4.jpg\n"
     ]
    },
    {
     "name": "stderr",
     "output_type": "stream",
     "text": [
      " 74%|█████████████████████████████████████████████████████████▌                    | 1498/2029 [44:35<14:07,  1.60s/it]"
     ]
    },
    {
     "name": "stdout",
     "output_type": "stream",
     "text": [
      "删除./chinese_faces_cleaned\\钟辰乐\\钟辰乐_2.jpg\n"
     ]
    },
    {
     "name": "stderr",
     "output_type": "stream",
     "text": [
      " 74%|██████████████████████████████████████████████████████████                    | 1509/2029 [44:58<20:11,  2.33s/it]"
     ]
    },
    {
     "name": "stdout",
     "output_type": "stream",
     "text": [
      "删除./chinese_faces_cleaned\\银雪\\银雪_7.jpg\n"
     ]
    },
    {
     "name": "stderr",
     "output_type": "stream",
     "text": [
      " 76%|███████████████████████████████████████████████████████████                   | 1535/2029 [45:44<14:26,  1.75s/it]"
     ]
    },
    {
     "name": "stdout",
     "output_type": "stream",
     "text": [
      "删除./chinese_faces_cleaned\\阿宝\\阿宝_0.jpg\n"
     ]
    },
    {
     "name": "stderr",
     "output_type": "stream",
     "text": [
      " 77%|████████████████████████████████████████████████████████████▎                 | 1569/2029 [46:44<12:41,  1.66s/it]"
     ]
    },
    {
     "name": "stdout",
     "output_type": "stream",
     "text": [
      "删除./chinese_faces_cleaned\\陈佳妍\\陈佳妍_5.jpg\n"
     ]
    },
    {
     "name": "stderr",
     "output_type": "stream",
     "text": [
      " 78%|████████████████████████████████████████████████████████████▊                 | 1582/2029 [47:07<12:25,  1.67s/it]"
     ]
    },
    {
     "name": "stdout",
     "output_type": "stream",
     "text": [
      "删除./chinese_faces_cleaned\\陈坤\\陈坤_1.jpg\n"
     ]
    },
    {
     "name": "stderr",
     "output_type": "stream",
     "text": [
      " 79%|█████████████████████████████████████████████████████████████▉                | 1612/2029 [47:56<13:45,  1.98s/it]"
     ]
    },
    {
     "name": "stdout",
     "output_type": "stream",
     "text": [
      "删除./chinese_faces_cleaned\\陈彦妃\\陈彦妃_8.jpg\n"
     ]
    },
    {
     "name": "stderr",
     "output_type": "stream",
     "text": [
      " 80%|██████████████████████████████████████████████████████████████▏               | 1619/2029 [48:06<10:39,  1.56s/it]"
     ]
    },
    {
     "name": "stdout",
     "output_type": "stream",
     "text": [
      "删除./chinese_faces_cleaned\\陈怡\\陈怡_3.jpg\n"
     ]
    },
    {
     "name": "stderr",
     "output_type": "stream",
     "text": [
      " 84%|█████████████████████████████████████████████████████████████████▏            | 1696/2029 [50:17<09:03,  1.63s/it]"
     ]
    },
    {
     "name": "stdout",
     "output_type": "stream",
     "text": [
      "删除./chinese_faces_cleaned\\陈雨锶\\陈雨锶_4.jpg\n"
     ]
    },
    {
     "name": "stderr",
     "output_type": "stream",
     "text": [
      " 88%|████████████████████████████████████████████████████████████████████▍         | 1779/2029 [53:09<10:09,  2.44s/it]"
     ]
    },
    {
     "name": "stdout",
     "output_type": "stream",
     "text": [
      "删除./chinese_faces_cleaned\\顾语涵\\顾语涵_7.jpg\n"
     ]
    },
    {
     "name": "stderr",
     "output_type": "stream",
     "text": [
      " 88%|████████████████████████████████████████████████████████████████████▌         | 1782/2029 [53:15<08:56,  2.17s/it]"
     ]
    },
    {
     "name": "stdout",
     "output_type": "stream",
     "text": [
      "删除./chinese_faces_cleaned\\颜丙燕\\颜丙燕_3.jpg\n"
     ]
    },
    {
     "name": "stderr",
     "output_type": "stream",
     "text": [
      " 88%|████████████████████████████████████████████████████████████████████▊         | 1789/2029 [53:28<08:37,  2.15s/it]"
     ]
    },
    {
     "name": "stdout",
     "output_type": "stream",
     "text": [
      "删除./chinese_faces_cleaned\\馨子\\馨子_1.jpg\n",
      "删除./chinese_faces_cleaned\\馨子\\馨子_5.jpg\n"
     ]
    },
    {
     "name": "stderr",
     "output_type": "stream",
     "text": [
      " 89%|█████████████████████████████████████████████████████████████████████▋        | 1812/2029 [54:09<07:27,  2.06s/it]"
     ]
    },
    {
     "name": "stdout",
     "output_type": "stream",
     "text": [
      "删除./chinese_faces_cleaned\\马敬涵\\马敬涵_2.jpg\n"
     ]
    },
    {
     "name": "stderr",
     "output_type": "stream",
     "text": [
      " 94%|█████████████████████████████████████████████████████████████████████████     | 1902/2029 [56:44<04:09,  1.97s/it]"
     ]
    },
    {
     "name": "stdout",
     "output_type": "stream",
     "text": [
      "删除./chinese_faces_cleaned\\魏一宁\\魏一宁_4.jpg\n"
     ]
    },
    {
     "name": "stderr",
     "output_type": "stream",
     "text": [
      " 97%|███████████████████████████████████████████████████████████████████████████▋  | 1968/2029 [58:36<01:52,  1.84s/it]"
     ]
    },
    {
     "name": "stdout",
     "output_type": "stream",
     "text": [
      "删除./chinese_faces_cleaned\\黄日莹\\黄日莹_2.jpg\n"
     ]
    },
    {
     "name": "stderr",
     "output_type": "stream",
     "text": [
      " 98%|████████████████████████████████████████████████████████████████████████████  | 1979/2029 [59:01<02:05,  2.50s/it]"
     ]
    },
    {
     "name": "stdout",
     "output_type": "stream",
     "text": [
      "删除./chinese_faces_cleaned\\黄梦莹\\黄梦莹_4.jpg\n"
     ]
    },
    {
     "name": "stderr",
     "output_type": "stream",
     "text": [
      " 99%|█████████████████████████████████████████████████████████████████████████████▎| 2012/2029 [59:57<00:36,  2.14s/it]"
     ]
    },
    {
     "name": "stdout",
     "output_type": "stream",
     "text": [
      "删除./chinese_faces_cleaned\\黎一萱\\黎一萱_5.jpg\n"
     ]
    },
    {
     "name": "stderr",
     "output_type": "stream",
     "text": [
      "100%|████████████████████████████████████████████████████████████████████████████| 2029/2029 [1:00:32<00:00,  1.79s/it]\n"
     ]
    }
   ],
   "source": [
    "# 遍历每个人的文件夹\n",
    "for person in tqdm.tqdm(person_list):\n",
    "    \n",
    "    \n",
    "    # 初始化特征列表，记录文件名\n",
    "    feature_list = None\n",
    "    record_file = []\n",
    "    # 获取该人名下的所有图片\n",
    "    file_name = person+'/*.jpg'\n",
    "    img_list = glob.glob(file_name)\n",
    "    # 遍历图片\n",
    "    for img_file in img_list:\n",
    "        # 获取每一张图片的特征\n",
    "        feat = getFaceFeat(img_file)\n",
    "        #过滤数据\n",
    "        if feat is not None: \n",
    "            \n",
    "            if feature_list is None:\n",
    "                feature_list = feat\n",
    "            else:\n",
    "                # 特征列表\n",
    "                feature_list = np.concatenate((feature_list,feat),axis=0)\n",
    "            # 记录一下文件名\n",
    "            record_file.append(img_file)\n",
    "    \n",
    "    if feature_list is None:\n",
    "        continue      \n",
    "    # 计算欧式距离\n",
    "    # 依次计算一个特征描述符与所有特征的距离\n",
    "    for i in range(len(feature_list)):\n",
    "        dist_list = np.linalg.norm((feature_list[i]-feature_list),axis=1)\n",
    "        dist_average = np.average(dist_list)\n",
    "\n",
    "        # print(dist_average)\n",
    "        #如果大于特征阈值，说明它与其他不同\n",
    "        if dist_average > 0.6:\n",
    "            \n",
    "            remove_file = record_file[i]\n",
    "            \n",
    "            # 先复制到chinese_faces_mislabeled下，再在路径中删除\n",
    "            person_class = person.split('\\\\')[-1]\n",
    "            # 创建需要保存的目录\n",
    "            save_dir = './chinese_faces_mislabeled/'+person_class\n",
    "            if not os.path.exists(save_dir):\n",
    "                os.makedirs(save_dir)\n",
    "            \n",
    "            # 复制\n",
    "            shutil.copy(remove_file, save_dir)            \n",
    "            # 删除\n",
    "            os.remove(remove_file)\n",
    "\n",
    "            print('删除'+remove_file)\n",
    "    \n",
    "        \n",
    "    # break\n",
    "    \n",
    "    "
   ]
  },
  {
   "cell_type": "code",
   "execution_count": null,
   "id": "70deb5e0-92a0-4cb4-9adf-ea950bccbf78",
   "metadata": {},
   "outputs": [],
   "source": []
  },
  {
   "cell_type": "code",
   "execution_count": null,
   "id": "a4147a61-d572-4a98-bfba-acc63f1c41f8",
   "metadata": {},
   "outputs": [],
   "source": []
  },
  {
   "cell_type": "code",
   "execution_count": null,
   "id": "3584a5a3-1bce-4079-8d57-8b9b6643c04e",
   "metadata": {},
   "outputs": [],
   "source": []
  }
 ],
 "metadata": {
  "kernelspec": {
   "display_name": "Python 3 (ipykernel)",
   "language": "python",
   "name": "python3"
  },
  "language_info": {
   "codemirror_mode": {
    "name": "ipython",
    "version": 3
   },
   "file_extension": ".py",
   "mimetype": "text/x-python",
   "name": "python",
   "nbconvert_exporter": "python",
   "pygments_lexer": "ipython3",
   "version": "3.7.13"
  }
 },
 "nbformat": 4,
 "nbformat_minor": 5
}

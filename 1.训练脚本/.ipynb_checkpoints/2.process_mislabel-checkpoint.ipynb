{
 "cells": [
  {
   "cell_type": "code",
   "execution_count": 1,
   "id": "3b6364ad-9a1f-48c5-85bc-7705015f121c",
   "metadata": {},
   "outputs": [],
   "source": [
    "# 处理标错的人脸"
   ]
  },
  {
   "cell_type": "code",
   "execution_count": 2,
   "id": "ffd4e4bd-85c9-4a2e-9692-fbcdf8cf3d41",
   "metadata": {},
   "outputs": [],
   "source": [
    "# 1.清洗文件夹下的数据：找出某个人文件夹下图片中明显与其他图片不一致的图\n",
    "# 2.选择一张图片A作为target，其他图片B、C、D作为对照，计算该组的平均欧式距离d_A = （d(AB)+d(AC)+d(AD)）/ 3\n",
    "# 3.如果d_A大于阈值，则删除A\n",
    "# 4.其他文件夹类似处理\n"
   ]
  },
  {
   "cell_type": "code",
   "execution_count": 3,
   "id": "37f57063-a3fb-4157-b87c-ec7341181c69",
   "metadata": {},
   "outputs": [],
   "source": [
    "# 计算欧式距离"
   ]
  },
  {
   "cell_type": "code",
   "execution_count": 4,
   "id": "b37c394e-6562-4abd-9369-16e951326c4a",
   "metadata": {},
   "outputs": [],
   "source": [
    "# 导入包\n",
    "import cv2\n",
    "import numpy as np\n",
    "import matplotlib.pyplot as plt\n",
    "import dlib\n",
    "# %matplotlib inline\n",
    "plt.rcParams['figure.dpi'] = 200"
   ]
  },
  {
   "cell_type": "code",
   "execution_count": 5,
   "id": "2336f268-e02b-4fd3-bd39-443ccdc2edd3",
   "metadata": {},
   "outputs": [],
   "source": [
    "# 关键点 检测模型\n",
    "shape_detector = dlib.shape_predictor('./weights/shape_predictor_68_face_landmarks.dat')\n",
    "# resnet模型\n",
    "face_descriptor_extractor = dlib.face_recognition_model_v1('./weights/dlib_face_recognition_resnet_model_v1.dat')"
   ]
  },
  {
   "cell_type": "code",
   "execution_count": 6,
   "id": "d5bab92e-a9b8-4227-aa27-e63bcc84a087",
   "metadata": {},
   "outputs": [],
   "source": [
    "# 提取单张图片的特征描述符\n",
    "def getFaceFeat(fileName):\n",
    "    \n",
    "    #读取\n",
    "    img=cv2.imdecode(np.fromfile(fileName,dtype=np.uint8),-1)\n",
    "    if img is None:\n",
    "        return None\n",
    "    \n",
    "    # 转为RGB\n",
    "    img = cv2.cvtColor(img,cv2.COLOR_BGR2RGB)\n",
    "    # 初始化\n",
    "    face_descriptor = None\n",
    "    # 整个裁剪图就是人脸，无需再检测\n",
    "    h,w = img.shape[:2]\n",
    "    l,t,r,b = 0,0,w,h\n",
    "    # 构造DLIB类型\n",
    "    face = dlib.rectangle(l,t,r,b) \n",
    "    # 获取关键点\n",
    "    points = shape_detector(img,face)\n",
    "    # 获取特征描述符\n",
    "    face_descriptor = face_descriptor_extractor.compute_face_descriptor(img,points)\n",
    "    # 转为numpy 格式的数组\n",
    "    face_descriptor = [f for f in face_descriptor]\n",
    "    face_descriptor = np.asarray(face_descriptor,dtype=np.float64)\n",
    "    face_descriptor = np.reshape(face_descriptor,(1,-1))\n",
    "    \n",
    "    return face_descriptor"
   ]
  },
  {
   "cell_type": "code",
   "execution_count": 7,
   "id": "7d8e281e-8054-4660-9cfd-58cdccd3a6ed",
   "metadata": {},
   "outputs": [],
   "source": [
    "# 测试一张\n",
    "feat_test = getFaceFeat('./chinese_faces_cleaned/丁冠森/丁冠森_3.jpg')"
   ]
  },
  {
   "cell_type": "code",
   "execution_count": 8,
   "id": "5da11b3d-3791-43d4-973d-d209c8075e41",
   "metadata": {},
   "outputs": [
    {
     "data": {
      "text/plain": [
       "(1, 128)"
      ]
     },
     "execution_count": 8,
     "metadata": {},
     "output_type": "execute_result"
    }
   ],
   "source": [
    "feat_test.shape"
   ]
  },
  {
   "cell_type": "code",
   "execution_count": 9,
   "id": "4a6d1c20-add9-4a43-bf14-986b609123f7",
   "metadata": {},
   "outputs": [
    {
     "data": {
      "text/plain": [
       "array([[-0.09162728,  0.0269032 ,  0.00419354, -0.03777689, -0.1112555 ,\n",
       "         0.00155301, -0.04292136, -0.16072276,  0.09233204, -0.13669872,\n",
       "         0.19544446, -0.0638658 , -0.25811556, -0.09072338, -0.05978008,\n",
       "         0.16551164, -0.18635371, -0.15972316, -0.01661953,  0.0016304 ,\n",
       "         0.08407176,  0.02550029, -0.00946881,  0.07499165, -0.08698544,\n",
       "        -0.36041629, -0.13661049, -0.04493103, -0.02882903, -0.0563573 ,\n",
       "        -0.07394323,  0.09138102, -0.19533134, -0.06992982,  0.04107945,\n",
       "         0.08403249,  0.019404  , -0.03721263,  0.17354757,  0.03375476,\n",
       "        -0.20123416,  0.11073305,  0.08685884,  0.27991101,  0.16776469,\n",
       "         0.05436033,  0.02277713, -0.12089485,  0.14030497, -0.12234369,\n",
       "         0.01376736,  0.17563035,  0.11202144,  0.03512541, -0.05397094,\n",
       "        -0.12582307, -0.00058609,  0.1117458 , -0.12600984,  0.08447472,\n",
       "         0.11468242, -0.1358276 , -0.02549904, -0.09458837,  0.16046469,\n",
       "         0.00975216, -0.10300556, -0.24271287,  0.08492658, -0.18632494,\n",
       "        -0.13879013,  0.00995842, -0.20154174, -0.17180581, -0.3125765 ,\n",
       "         0.03541806,  0.32142693,  0.10074127, -0.17689522,  0.12720808,\n",
       "        -0.01019756,  0.01110027,  0.11202688,  0.1826292 ,  0.02241708,\n",
       "         0.05455072, -0.08271408,  0.00153021,  0.2412035 , -0.02362583,\n",
       "        -0.03464957,  0.24383067, -0.01935551,  0.07864251,  0.08533978,\n",
       "         0.01466099, -0.05947403,  0.01661935, -0.14375587,  0.01087334,\n",
       "        -0.00436246, -0.08411758,  0.00909058,  0.0672904 , -0.15177491,\n",
       "         0.14321059, -0.06833368,  0.0697066 , -0.00304947, -0.02360738,\n",
       "        -0.15315425, -0.02662355,  0.14118084, -0.24931367,  0.20755191,\n",
       "         0.19778636,  0.09413974,  0.10179912,  0.15808496,  0.0909869 ,\n",
       "        -0.01452879,  0.0409534 , -0.22141123, -0.06674357,  0.14576988,\n",
       "        -0.03892446,  0.1242038 , -0.0039175 ]])"
      ]
     },
     "execution_count": 9,
     "metadata": {},
     "output_type": "execute_result"
    }
   ],
   "source": [
    "feat_test"
   ]
  },
  {
   "cell_type": "code",
   "execution_count": null,
   "id": "23757572-afaa-44dc-b9c5-c2703ac35bc0",
   "metadata": {},
   "outputs": [],
   "source": []
  },
  {
   "cell_type": "code",
   "execution_count": null,
   "id": "bffc446d-9eb8-4533-84c6-7f1f5e0e5a14",
   "metadata": {},
   "outputs": [],
   "source": []
  },
  {
   "cell_type": "code",
   "execution_count": 10,
   "id": "a04726dc-015a-4c4a-8031-829dd4d2e920",
   "metadata": {},
   "outputs": [],
   "source": [
    "import glob,tqdm"
   ]
  },
  {
   "cell_type": "code",
   "execution_count": 11,
   "id": "dee31216-d3c9-4b61-acbf-530585fd6886",
   "metadata": {},
   "outputs": [],
   "source": [
    "import shutil\n",
    "import os\n"
   ]
  },
  {
   "cell_type": "code",
   "execution_count": 12,
   "id": "0f6f46be-5490-4052-92a8-24bd182b6aff",
   "metadata": {},
   "outputs": [],
   "source": [
    "# 获取所有人名\n",
    "person_list = glob.glob('./chinese_faces_cleaned/*')"
   ]
  },
  {
   "cell_type": "code",
   "execution_count": 13,
   "id": "1aa8a43d-8351-4f91-bbc3-ce275e32ad84",
   "metadata": {},
   "outputs": [
    {
     "data": {
      "text/plain": [
       "'./chinese_faces_cleaned\\\\丛飞'"
      ]
     },
     "execution_count": 13,
     "metadata": {},
     "output_type": "execute_result"
    }
   ],
   "source": [
    "person_list[8]"
   ]
  },
  {
   "cell_type": "code",
   "execution_count": 14,
   "id": "9de913d9-7de2-4aeb-8657-51a2258b1adc",
   "metadata": {},
   "outputs": [
    {
     "data": {
      "text/plain": [
       "10"
      ]
     },
     "execution_count": 14,
     "metadata": {},
     "output_type": "execute_result"
    }
   ],
   "source": [
    "len(person_list)"
   ]
  },
  {
   "cell_type": "code",
   "execution_count": 15,
   "id": "cbc62d03-0233-4527-84e8-13da255f91df",
   "metadata": {},
   "outputs": [
    {
     "name": "stderr",
     "output_type": "stream",
     "text": [
      " 10%|████████▎                                                                          | 1/10 [00:03<00:29,  3.26s/it]"
     ]
    },
    {
     "name": "stdout",
     "output_type": "stream",
     "text": [
      "删除./chinese_faces_cleaned\\Angelababy\\丁海峰_2.jpg\n"
     ]
    },
    {
     "name": "stderr",
     "output_type": "stream",
     "text": [
      "100%|██████████████████████████████████████████████████████████████████████████████████| 10/10 [00:15<00:00,  1.56s/it]\n"
     ]
    }
   ],
   "source": [
    "# 遍历每个人的文件夹\n",
    "for person in tqdm.tqdm(person_list):\n",
    "    \n",
    "    \n",
    "    # 初始化特征列表，记录文件名\n",
    "    feature_list = None\n",
    "    record_file = []\n",
    "    # 获取该人名下的所有图片\n",
    "    file_name = person+'/*.jpg'\n",
    "    img_list = glob.glob(file_name)\n",
    "    # 遍历图片\n",
    "    for img_file in img_list:\n",
    "        # 获取每一张图片的特征\n",
    "        feat = getFaceFeat(img_file)\n",
    "        #过滤数据\n",
    "        if feat is not None: \n",
    "            \n",
    "            if feature_list is None:\n",
    "                feature_list = feat\n",
    "            else:\n",
    "                # 特征列表\n",
    "                feature_list = np.concatenate((feature_list,feat),axis=0)\n",
    "            # 记录一下文件名\n",
    "            record_file.append(img_file)\n",
    "    \n",
    "    if feature_list is None:\n",
    "        continue\n",
    "        \n",
    "    # 计算欧式距离\n",
    "    # 依次计算一个特征描述符与所有特征的距离\n",
    "    for i in range(len(feature_list)):\n",
    "        dist_list = np.linalg.norm((feature_list[i]-feature_list),axis=1)\n",
    "        dist_average = np.average(dist_list)\n",
    "\n",
    "        # print(dist_average)\n",
    "        #如果大于特征阈值，说明它与其他不同\n",
    "        if dist_average > 0.6:\n",
    "            \n",
    "            remove_file = record_file[i]\n",
    "            \n",
    "            # 先复制到chinese_faces_mislabeled下，再在路径中删除\n",
    "            person_class = person.split('\\\\')[-1]\n",
    "            # 创建需要保存的目录\n",
    "            save_dir = './chinese_faces_mislabeled/'+person_class\n",
    "            if not os.path.exists(save_dir):\n",
    "                os.makedirs(save_dir)\n",
    "            \n",
    "            # 复制\n",
    "            shutil.copy(remove_file, save_dir)            \n",
    "            # 删除\n",
    "            os.remove(remove_file)\n",
    "\n",
    "            print('删除'+remove_file)\n",
    "    \n",
    "        \n",
    "    # break\n",
    "    \n",
    "    "
   ]
  },
  {
   "cell_type": "code",
   "execution_count": null,
   "id": "70deb5e0-92a0-4cb4-9adf-ea950bccbf78",
   "metadata": {},
   "outputs": [],
   "source": []
  },
  {
   "cell_type": "code",
   "execution_count": null,
   "id": "a4147a61-d572-4a98-bfba-acc63f1c41f8",
   "metadata": {},
   "outputs": [],
   "source": []
  },
  {
   "cell_type": "code",
   "execution_count": null,
   "id": "3584a5a3-1bce-4079-8d57-8b9b6643c04e",
   "metadata": {},
   "outputs": [],
   "source": []
  }
 ],
 "metadata": {
  "kernelspec": {
   "display_name": "Python 3 (ipykernel)",
   "language": "python",
   "name": "python3"
  },
  "language_info": {
   "codemirror_mode": {
    "name": "ipython",
    "version": 3
   },
   "file_extension": ".py",
   "mimetype": "text/x-python",
   "name": "python",
   "nbconvert_exporter": "python",
   "pygments_lexer": "ipython3",
   "version": "3.7.13"
  }
 },
 "nbformat": 4,
 "nbformat_minor": 5
}

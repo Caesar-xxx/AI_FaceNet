{
 "cells": [
  {
   "cell_type": "code",
   "execution_count": 1,
   "id": "7ae3ae33-bb38-4dc6-971b-b1fc46bc0b66",
   "metadata": {},
   "outputs": [],
   "source": [
    "# 复现RESNET 18（普通）以及RESNET 50 （有bottleneck）\n",
    "# RESNET 18：https://towardsdev.com/implement-resnet-with-pytorch-a9fb40a77448\n",
    "# RESNET 50：https://github.com/liao2000/ML-Notebook/blob/main/ResNet/ResNet_PyTorch.ipynb\n",
    "# 训练：15.【代码】ResNet代码详解（下载见附件）.pdf"
   ]
  },
  {
   "cell_type": "code",
   "execution_count": 2,
   "id": "08b77efc-83be-4a51-90e0-f6f9ffb3c862",
   "metadata": {},
   "outputs": [],
   "source": [
    "import torch\n",
    "import torch.nn as nn\n",
    "from torchsummary import summary\n"
   ]
  },
  {
   "cell_type": "code",
   "execution_count": 3,
   "id": "eabf51c8-82ee-472b-8890-e491fae10132",
   "metadata": {},
   "outputs": [],
   "source": [
    "# ! pip install torchsummary"
   ]
  },
  {
   "cell_type": "code",
   "execution_count": 4,
   "id": "2304b1e0-98b0-4e3a-8702-29e99cc9771d",
   "metadata": {},
   "outputs": [],
   "source": [
    "# summary(model, (3, 224, 224))"
   ]
  },
  {
   "cell_type": "code",
   "execution_count": 5,
   "id": "a5aea39c-6bb5-47da-aca1-351958ef0e8c",
   "metadata": {},
   "outputs": [],
   "source": [
    "# 残差块\n",
    "class ResBlock(nn.Module):\n",
    "    def __init__(self,need_downsample,in_channels,out_channels):\n",
    "        super().__init__()\n",
    "        # 是否需要下采样\n",
    "        self.need_downsample = need_downsample\n",
    "        \n",
    "        if need_downsample:\n",
    "            # 需要下采样\n",
    "            self.conv1 = nn.Conv2d(in_channels,out_channels,3,2,1)    \n",
    "            # 短路连接\n",
    "            self.shortcut = nn.Sequential(\n",
    "                nn.Conv2d(in_channels,out_channels,1,2,0),\n",
    "                nn.BatchNorm2d(out_channels),\n",
    "            )\n",
    "\n",
    "            \n",
    "        else:\n",
    "            # 不需要下采样\n",
    "            self.conv1 = nn.Conv2d(in_channels,out_channels,3,1,1)\n",
    "            self.shortcut = nn.Sequential()\n",
    "\n",
    "        \n",
    "        self.bn1 = nn.BatchNorm2d(out_channels)\n",
    "        self.relu1 = nn.ReLU()\n",
    "            \n",
    "        # conv2\n",
    "        self.conv2 = nn.Conv2d(out_channels,out_channels,3,1,1)\n",
    "        self.bn2 = nn.BatchNorm2d(out_channels)\n",
    "        self.relu2 = nn.ReLU()\n",
    "        \n",
    "        self.relu3 = nn.ReLU()\n",
    "        \n",
    "    def forward(self,x):\n",
    "        shortcut = self.shortcut(x) # 对输入进行处理\n",
    "        \n",
    "        # conv1\n",
    "        \n",
    "        x = self.conv1(x)\n",
    "        x = self.bn1(x)\n",
    "        x = self.relu1(x)\n",
    "        \n",
    "        # conv2\n",
    "        x = self.conv2(x)\n",
    "        x = self.bn2(x)\n",
    "        x = self.relu2(x)\n",
    "        \n",
    "        # shortcut\n",
    "        x= x + shortcut\n",
    "        \n",
    "        x = self.relu3(x)\n",
    "        \n",
    "        return x\n",
    "            \n",
    "            \n",
    "        "
   ]
  },
  {
   "cell_type": "code",
   "execution_count": 6,
   "id": "64dd2d9f-0353-4d2d-b90f-4b0168e933db",
   "metadata": {},
   "outputs": [],
   "source": [
    "resblock = ResBlock(True,128,256).to('cuda:0')"
   ]
  },
  {
   "cell_type": "code",
   "execution_count": 7,
   "id": "0dd4871b-b461-4eee-8a95-5e550d0546a1",
   "metadata": {},
   "outputs": [],
   "source": [
    "# resblock"
   ]
  },
  {
   "cell_type": "code",
   "execution_count": 8,
   "id": "af9d1f6f-1432-4b10-8106-5f6ea3de7109",
   "metadata": {},
   "outputs": [
    {
     "name": "stdout",
     "output_type": "stream",
     "text": [
      "----------------------------------------------------------------\n",
      "        Layer (type)               Output Shape         Param #\n",
      "================================================================\n",
      "            Conv2d-1          [-1, 256, 14, 14]          33,024\n",
      "       BatchNorm2d-2          [-1, 256, 14, 14]             512\n",
      "            Conv2d-3          [-1, 256, 14, 14]         295,168\n",
      "       BatchNorm2d-4          [-1, 256, 14, 14]             512\n",
      "              ReLU-5          [-1, 256, 14, 14]               0\n",
      "            Conv2d-6          [-1, 256, 14, 14]         590,080\n",
      "       BatchNorm2d-7          [-1, 256, 14, 14]             512\n",
      "              ReLU-8          [-1, 256, 14, 14]               0\n",
      "              ReLU-9          [-1, 256, 14, 14]               0\n",
      "================================================================\n",
      "Total params: 919,808\n",
      "Trainable params: 919,808\n",
      "Non-trainable params: 0\n",
      "----------------------------------------------------------------\n",
      "Input size (MB): 0.38\n",
      "Forward/backward pass size (MB): 3.45\n",
      "Params size (MB): 3.51\n",
      "Estimated Total Size (MB): 7.34\n",
      "----------------------------------------------------------------\n"
     ]
    }
   ],
   "source": [
    "summary(resblock, (128, 28, 28))"
   ]
  },
  {
   "cell_type": "code",
   "execution_count": 9,
   "id": "8f5de8b2-4fae-48cd-ba27-54193b557093",
   "metadata": {},
   "outputs": [],
   "source": [
    "class Resnet18(nn.Module):\n",
    "    \"\"\"\n",
    "    搭建一个简单的残差网络：RESNET18\n",
    "    输入：224 x 224 x 3 RGB 彩图\n",
    "    输出：1000类\n",
    "    \n",
    "    \"\"\"\n",
    "    def __init__(self,num_classes):\n",
    "        super().__init__()\n",
    "        # layer 0\n",
    "        self.layer_0 = nn.Sequential(\n",
    "            \n",
    "            nn.Conv2d(in_channels=3,out_channels=64,kernel_size=7,stride=2,padding=3),\n",
    "            nn.BatchNorm2d(64),\n",
    "            nn.ReLU(),\n",
    "            nn.MaxPool2d(kernel_size=3,stride=2,padding=1),\n",
    "        \n",
    "        )\n",
    "        # 每层通道数量\n",
    "        channels_list = [64,128,256,512]\n",
    "        \n",
    "        # layer 1\n",
    "        self.layer_1 = nn.Sequential(\n",
    "            # 不做下采样\n",
    "            ResBlock(False,channels_list[0],channels_list[0]),\n",
    "            # 不做下采样            \n",
    "            ResBlock(False,channels_list[0],channels_list[0]),            \n",
    "        )\n",
    "        \n",
    "        \n",
    "        \n",
    "        # layer 2        \n",
    "        self.layer_2 = nn.Sequential(\n",
    "            # 做下采样\n",
    "            ResBlock(True,channels_list[0],channels_list[1]),\n",
    "            # 不做下采样            \n",
    "            ResBlock(False,channels_list[1],channels_list[1]),            \n",
    "        )        \n",
    "        # layer 3\n",
    "        self.layer_3 = nn.Sequential(\n",
    "            # 做下采样\n",
    "            ResBlock(True,channels_list[1],channels_list[2]),\n",
    "            # 不做下采样            \n",
    "            ResBlock(False,channels_list[2],channels_list[2]),            \n",
    "        )          \n",
    "        # layer 4\n",
    "        self.layer_4 = nn.Sequential(\n",
    "            # 做下采样\n",
    "            ResBlock(True,channels_list[2],channels_list[3]),\n",
    "            # 不做下采样            \n",
    "            ResBlock(False,channels_list[3],channels_list[3]),            \n",
    "        )              \n",
    "        \n",
    "        # AAP\n",
    "        self.aap = nn.AdaptiveAvgPool2d((1, 1))\n",
    "        # flatten\n",
    "        self.flatten = nn.Flatten(start_dim=1)\n",
    "        # FC\n",
    "        self.fc = nn.Linear(channels_list[3],num_classes)\n",
    "\n",
    "    def forward(self,x):\n",
    "        x = self.layer_0(x)\n",
    "        x = self.layer_1(x)\n",
    "        x = self.layer_2(x)\n",
    "        x = self.layer_3(x)\n",
    "        x = self.layer_4(x)  \n",
    "        \n",
    "        x = self.aap(x)\n",
    "        \n",
    "        x = self.flatten(x)\n",
    "\n",
    "        x = self.fc(x)\n",
    "        \n",
    "        return x\n",
    "        "
   ]
  },
  {
   "cell_type": "code",
   "execution_count": 10,
   "id": "a53e1719-3f09-4707-a98e-b0655656435a",
   "metadata": {},
   "outputs": [],
   "source": [
    "res18 = Resnet18(10).to('cuda:0')"
   ]
  },
  {
   "cell_type": "code",
   "execution_count": 11,
   "id": "1b7ac4bd-a2e2-4614-b427-3309aafd1010",
   "metadata": {},
   "outputs": [],
   "source": [
    "# 128, 28, 28"
   ]
  },
  {
   "cell_type": "code",
   "execution_count": 12,
   "id": "3cc39447-67cd-4896-8ee5-4cf00bc8242a",
   "metadata": {},
   "outputs": [
    {
     "name": "stderr",
     "output_type": "stream",
     "text": [
      "D:\\Anaconda\\envs\\resnet18\\lib\\site-packages\\torch\\nn\\functional.py:718: UserWarning: Named tensors and all their associated APIs are an experimental feature and subject to change. Please do not use them for anything important until they are released as stable. (Triggered internally at  ..\\c10/core/TensorImpl.h:1156.)\n",
      "  return torch.max_pool2d(input, kernel_size, stride, padding, dilation, ceil_mode)\n"
     ]
    },
    {
     "name": "stdout",
     "output_type": "stream",
     "text": [
      "----------------------------------------------------------------\n",
      "        Layer (type)               Output Shape         Param #\n",
      "================================================================\n",
      "            Conv2d-1         [-1, 64, 112, 112]           9,472\n",
      "       BatchNorm2d-2         [-1, 64, 112, 112]             128\n",
      "              ReLU-3         [-1, 64, 112, 112]               0\n",
      "         MaxPool2d-4           [-1, 64, 56, 56]               0\n",
      "            Conv2d-5           [-1, 64, 56, 56]          36,928\n",
      "       BatchNorm2d-6           [-1, 64, 56, 56]             128\n",
      "              ReLU-7           [-1, 64, 56, 56]               0\n",
      "            Conv2d-8           [-1, 64, 56, 56]          36,928\n",
      "       BatchNorm2d-9           [-1, 64, 56, 56]             128\n",
      "             ReLU-10           [-1, 64, 56, 56]               0\n",
      "             ReLU-11           [-1, 64, 56, 56]               0\n",
      "         ResBlock-12           [-1, 64, 56, 56]               0\n",
      "           Conv2d-13           [-1, 64, 56, 56]          36,928\n",
      "      BatchNorm2d-14           [-1, 64, 56, 56]             128\n",
      "             ReLU-15           [-1, 64, 56, 56]               0\n",
      "           Conv2d-16           [-1, 64, 56, 56]          36,928\n",
      "      BatchNorm2d-17           [-1, 64, 56, 56]             128\n",
      "             ReLU-18           [-1, 64, 56, 56]               0\n",
      "             ReLU-19           [-1, 64, 56, 56]               0\n",
      "         ResBlock-20           [-1, 64, 56, 56]               0\n",
      "           Conv2d-21          [-1, 128, 28, 28]           8,320\n",
      "      BatchNorm2d-22          [-1, 128, 28, 28]             256\n",
      "           Conv2d-23          [-1, 128, 28, 28]          73,856\n",
      "      BatchNorm2d-24          [-1, 128, 28, 28]             256\n",
      "             ReLU-25          [-1, 128, 28, 28]               0\n",
      "           Conv2d-26          [-1, 128, 28, 28]         147,584\n",
      "      BatchNorm2d-27          [-1, 128, 28, 28]             256\n",
      "             ReLU-28          [-1, 128, 28, 28]               0\n",
      "             ReLU-29          [-1, 128, 28, 28]               0\n",
      "         ResBlock-30          [-1, 128, 28, 28]               0\n",
      "           Conv2d-31          [-1, 128, 28, 28]         147,584\n",
      "      BatchNorm2d-32          [-1, 128, 28, 28]             256\n",
      "             ReLU-33          [-1, 128, 28, 28]               0\n",
      "           Conv2d-34          [-1, 128, 28, 28]         147,584\n",
      "      BatchNorm2d-35          [-1, 128, 28, 28]             256\n",
      "             ReLU-36          [-1, 128, 28, 28]               0\n",
      "             ReLU-37          [-1, 128, 28, 28]               0\n",
      "         ResBlock-38          [-1, 128, 28, 28]               0\n",
      "           Conv2d-39          [-1, 256, 14, 14]          33,024\n",
      "      BatchNorm2d-40          [-1, 256, 14, 14]             512\n",
      "           Conv2d-41          [-1, 256, 14, 14]         295,168\n",
      "      BatchNorm2d-42          [-1, 256, 14, 14]             512\n",
      "             ReLU-43          [-1, 256, 14, 14]               0\n",
      "           Conv2d-44          [-1, 256, 14, 14]         590,080\n",
      "      BatchNorm2d-45          [-1, 256, 14, 14]             512\n",
      "             ReLU-46          [-1, 256, 14, 14]               0\n",
      "             ReLU-47          [-1, 256, 14, 14]               0\n",
      "         ResBlock-48          [-1, 256, 14, 14]               0\n",
      "           Conv2d-49          [-1, 256, 14, 14]         590,080\n",
      "      BatchNorm2d-50          [-1, 256, 14, 14]             512\n",
      "             ReLU-51          [-1, 256, 14, 14]               0\n",
      "           Conv2d-52          [-1, 256, 14, 14]         590,080\n",
      "      BatchNorm2d-53          [-1, 256, 14, 14]             512\n",
      "             ReLU-54          [-1, 256, 14, 14]               0\n",
      "             ReLU-55          [-1, 256, 14, 14]               0\n",
      "         ResBlock-56          [-1, 256, 14, 14]               0\n",
      "           Conv2d-57            [-1, 512, 7, 7]         131,584\n",
      "      BatchNorm2d-58            [-1, 512, 7, 7]           1,024\n",
      "           Conv2d-59            [-1, 512, 7, 7]       1,180,160\n",
      "      BatchNorm2d-60            [-1, 512, 7, 7]           1,024\n",
      "             ReLU-61            [-1, 512, 7, 7]               0\n",
      "           Conv2d-62            [-1, 512, 7, 7]       2,359,808\n",
      "      BatchNorm2d-63            [-1, 512, 7, 7]           1,024\n",
      "             ReLU-64            [-1, 512, 7, 7]               0\n",
      "             ReLU-65            [-1, 512, 7, 7]               0\n",
      "         ResBlock-66            [-1, 512, 7, 7]               0\n",
      "           Conv2d-67            [-1, 512, 7, 7]       2,359,808\n",
      "      BatchNorm2d-68            [-1, 512, 7, 7]           1,024\n",
      "             ReLU-69            [-1, 512, 7, 7]               0\n",
      "           Conv2d-70            [-1, 512, 7, 7]       2,359,808\n",
      "      BatchNorm2d-71            [-1, 512, 7, 7]           1,024\n",
      "             ReLU-72            [-1, 512, 7, 7]               0\n",
      "             ReLU-73            [-1, 512, 7, 7]               0\n",
      "         ResBlock-74            [-1, 512, 7, 7]               0\n",
      "AdaptiveAvgPool2d-75            [-1, 512, 1, 1]               0\n",
      "          Flatten-76                  [-1, 512]               0\n",
      "           Linear-77                   [-1, 10]           5,130\n",
      "================================================================\n",
      "Total params: 11,186,442\n",
      "Trainable params: 11,186,442\n",
      "Non-trainable params: 0\n",
      "----------------------------------------------------------------\n",
      "Input size (MB): 0.57\n",
      "Forward/backward pass size (MB): 68.53\n",
      "Params size (MB): 42.67\n",
      "Estimated Total Size (MB): 111.78\n",
      "----------------------------------------------------------------\n"
     ]
    }
   ],
   "source": [
    "summary(res18, (3, 224, 224))"
   ]
  },
  {
   "cell_type": "code",
   "execution_count": null,
   "id": "43a34c81-a860-400c-9f28-b3166b45bea0",
   "metadata": {},
   "outputs": [],
   "source": []
  },
  {
   "cell_type": "code",
   "execution_count": 13,
   "id": "d4e97a1f-e635-4995-8fb6-dae9d39b6e7b",
   "metadata": {},
   "outputs": [],
   "source": [
    "import torch\n",
    "import torchvision\n",
    "import torchvision.transforms as transforms"
   ]
  },
  {
   "cell_type": "code",
   "execution_count": 14,
   "id": "25e066c5-fadc-402c-aee0-0e266cdc1c7f",
   "metadata": {},
   "outputs": [
    {
     "name": "stdout",
     "output_type": "stream",
     "text": [
      "Files already downloaded and verified\n",
      "Files already downloaded and verified\n"
     ]
    }
   ],
   "source": [
    "transform = transforms.Compose(\n",
    "    [transforms.ToTensor(),\n",
    "     transforms.Normalize((0.5, 0.5, 0.5), (0.5, 0.5, 0.5))])\n",
    "\n",
    "batch_size = 4\n",
    "\n",
    "trainset = torchvision.datasets.CIFAR10(root='./data', train=True,\n",
    "                                        download=True, transform=transform)\n",
    "trainloader = torch.utils.data.DataLoader(trainset, batch_size=batch_size,\n",
    "                                          shuffle=True, num_workers=2)\n",
    "\n",
    "testset = torchvision.datasets.CIFAR10(root='./data', train=False,\n",
    "                                       download=True, transform=transform)\n",
    "testloader = torch.utils.data.DataLoader(testset, batch_size=batch_size,\n",
    "                                         shuffle=False, num_workers=2)\n"
   ]
  },
  {
   "cell_type": "code",
   "execution_count": null,
   "id": "5bc4f3ca-f5fd-49ad-b3ad-9f4285cdfccd",
   "metadata": {},
   "outputs": [],
   "source": []
  },
  {
   "cell_type": "code",
   "execution_count": 15,
   "id": "def2716d-3efb-4957-b4fc-b0c1779b4ea4",
   "metadata": {},
   "outputs": [],
   "source": [
    "# net =  resnet18()\n",
    "optimizer = torch.optim.SGD(res18.parameters(), lr=0.01)\n",
    "criterion = nn.CrossEntropyLoss()"
   ]
  },
  {
   "cell_type": "code",
   "execution_count": 16,
   "id": "f6bb8734-8186-468b-9884-267deed7d612",
   "metadata": {},
   "outputs": [
    {
     "name": "stdout",
     "output_type": "stream",
     "text": [
      "[1,  2000] loss: 2.644\n",
      "[1,  4000] loss: 2.255\n",
      "[1,  6000] loss: 2.116\n",
      "[1,  8000] loss: 1.980\n",
      "[1, 10000] loss: 1.879\n",
      "[1, 12000] loss: 1.806\n"
     ]
    },
    {
     "ename": "KeyboardInterrupt",
     "evalue": "",
     "output_type": "error",
     "traceback": [
      "\u001b[1;31m---------------------------------------------------------------------------\u001b[0m",
      "\u001b[1;31mKeyboardInterrupt\u001b[0m                         Traceback (most recent call last)",
      "\u001b[1;32m~\\AppData\\Local\\Temp\\ipykernel_3372\\2074191729.py\u001b[0m in \u001b[0;36m<module>\u001b[1;34m\u001b[0m\n\u001b[0;32m     14\u001b[0m         \u001b[0moutputs\u001b[0m \u001b[1;33m=\u001b[0m \u001b[0mres18\u001b[0m\u001b[1;33m(\u001b[0m\u001b[0minputs\u001b[0m\u001b[1;33m)\u001b[0m\u001b[1;33m\u001b[0m\u001b[1;33m\u001b[0m\u001b[0m\n\u001b[0;32m     15\u001b[0m         \u001b[0mloss\u001b[0m \u001b[1;33m=\u001b[0m \u001b[0mcriterion\u001b[0m\u001b[1;33m(\u001b[0m\u001b[0moutputs\u001b[0m\u001b[1;33m,\u001b[0m \u001b[0mlabels\u001b[0m\u001b[1;33m)\u001b[0m\u001b[1;33m\u001b[0m\u001b[1;33m\u001b[0m\u001b[0m\n\u001b[1;32m---> 16\u001b[1;33m         \u001b[0mloss\u001b[0m\u001b[1;33m.\u001b[0m\u001b[0mbackward\u001b[0m\u001b[1;33m(\u001b[0m\u001b[1;33m)\u001b[0m\u001b[1;33m\u001b[0m\u001b[1;33m\u001b[0m\u001b[0m\n\u001b[0m\u001b[0;32m     17\u001b[0m         \u001b[0moptimizer\u001b[0m\u001b[1;33m.\u001b[0m\u001b[0mstep\u001b[0m\u001b[1;33m(\u001b[0m\u001b[1;33m)\u001b[0m\u001b[1;33m\u001b[0m\u001b[1;33m\u001b[0m\u001b[0m\n\u001b[0;32m     18\u001b[0m \u001b[1;33m\u001b[0m\u001b[0m\n",
      "\u001b[1;32mD:\\Anaconda\\envs\\resnet18\\lib\\site-packages\\torch\\_tensor.py\u001b[0m in \u001b[0;36mbackward\u001b[1;34m(self, gradient, retain_graph, create_graph, inputs)\u001b[0m\n\u001b[0;32m    253\u001b[0m                 \u001b[0mcreate_graph\u001b[0m\u001b[1;33m=\u001b[0m\u001b[0mcreate_graph\u001b[0m\u001b[1;33m,\u001b[0m\u001b[1;33m\u001b[0m\u001b[1;33m\u001b[0m\u001b[0m\n\u001b[0;32m    254\u001b[0m                 inputs=inputs)\n\u001b[1;32m--> 255\u001b[1;33m         \u001b[0mtorch\u001b[0m\u001b[1;33m.\u001b[0m\u001b[0mautograd\u001b[0m\u001b[1;33m.\u001b[0m\u001b[0mbackward\u001b[0m\u001b[1;33m(\u001b[0m\u001b[0mself\u001b[0m\u001b[1;33m,\u001b[0m \u001b[0mgradient\u001b[0m\u001b[1;33m,\u001b[0m \u001b[0mretain_graph\u001b[0m\u001b[1;33m,\u001b[0m \u001b[0mcreate_graph\u001b[0m\u001b[1;33m,\u001b[0m \u001b[0minputs\u001b[0m\u001b[1;33m=\u001b[0m\u001b[0minputs\u001b[0m\u001b[1;33m)\u001b[0m\u001b[1;33m\u001b[0m\u001b[1;33m\u001b[0m\u001b[0m\n\u001b[0m\u001b[0;32m    256\u001b[0m \u001b[1;33m\u001b[0m\u001b[0m\n\u001b[0;32m    257\u001b[0m     \u001b[1;32mdef\u001b[0m \u001b[0mregister_hook\u001b[0m\u001b[1;33m(\u001b[0m\u001b[0mself\u001b[0m\u001b[1;33m,\u001b[0m \u001b[0mhook\u001b[0m\u001b[1;33m)\u001b[0m\u001b[1;33m:\u001b[0m\u001b[1;33m\u001b[0m\u001b[1;33m\u001b[0m\u001b[0m\n",
      "\u001b[1;32mD:\\Anaconda\\envs\\resnet18\\lib\\site-packages\\torch\\autograd\\__init__.py\u001b[0m in \u001b[0;36mbackward\u001b[1;34m(tensors, grad_tensors, retain_graph, create_graph, grad_variables, inputs)\u001b[0m\n\u001b[0;32m    147\u001b[0m     Variable._execution_engine.run_backward(\n\u001b[0;32m    148\u001b[0m         \u001b[0mtensors\u001b[0m\u001b[1;33m,\u001b[0m \u001b[0mgrad_tensors_\u001b[0m\u001b[1;33m,\u001b[0m \u001b[0mretain_graph\u001b[0m\u001b[1;33m,\u001b[0m \u001b[0mcreate_graph\u001b[0m\u001b[1;33m,\u001b[0m \u001b[0minputs\u001b[0m\u001b[1;33m,\u001b[0m\u001b[1;33m\u001b[0m\u001b[1;33m\u001b[0m\u001b[0m\n\u001b[1;32m--> 149\u001b[1;33m         allow_unreachable=True, accumulate_grad=True)  # allow_unreachable flag\n\u001b[0m\u001b[0;32m    150\u001b[0m \u001b[1;33m\u001b[0m\u001b[0m\n\u001b[0;32m    151\u001b[0m \u001b[1;33m\u001b[0m\u001b[0m\n",
      "\u001b[1;31mKeyboardInterrupt\u001b[0m: "
     ]
    }
   ],
   "source": [
    "for epoch in range(2):  # loop over the dataset multiple times\n",
    "\n",
    "    running_loss = 0.0\n",
    "    for i, data in enumerate(trainloader, 0):\n",
    "        # get the inputs; data is a list of [inputs, labels]\n",
    "        inputs, labels = data\n",
    "        inputs = inputs.to('cuda:0')\n",
    "        labels = labels.to('cuda:0')\n",
    "\n",
    "        # zero the parameter gradients\n",
    "        optimizer.zero_grad()\n",
    "\n",
    "        # forward + backward + optimize\n",
    "        outputs = res18(inputs)\n",
    "        loss = criterion(outputs, labels)\n",
    "        loss.backward()\n",
    "        optimizer.step()\n",
    "\n",
    "        # print statistics\n",
    "        running_loss += loss.item()\n",
    "        # print(loss.item())\n",
    "        if i % 2000 == 1999:    # print every 2000 mini-batches\n",
    "            print(f'[{epoch + 1}, {i + 1:5d}] loss: {running_loss / 2000:.3f}')\n",
    "            running_loss = 0.0\n",
    "\n",
    "print('Finished Training')"
   ]
  },
  {
   "cell_type": "code",
   "execution_count": null,
   "id": "d22a85f7-f3bb-4d6c-9e97-70f0db3d1835",
   "metadata": {},
   "outputs": [],
   "source": []
  }
 ],
 "metadata": {
  "kernelspec": {
   "display_name": "Python 3 (ipykernel)",
   "language": "python",
   "name": "python3"
  },
  "language_info": {
   "codemirror_mode": {
    "name": "ipython",
    "version": 3
   },
   "file_extension": ".py",
   "mimetype": "text/x-python",
   "name": "python",
   "nbconvert_exporter": "python",
   "pygments_lexer": "ipython3",
   "version": "3.7.16"
  }
 },
 "nbformat": 4,
 "nbformat_minor": 5
}
